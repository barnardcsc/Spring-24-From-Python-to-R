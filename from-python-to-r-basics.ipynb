{
  "cells": [
    {
      "cell_type": "markdown",
      "id": "beb425ee-977a-44ad-9d06-35e0e60291df",
      "metadata": {
        "id": "beb425ee-977a-44ad-9d06-35e0e60291df"
      },
      "source": [
        "# From Python to R: Learning the Basics of R Programming"
      ]
    },
    {
      "cell_type": "markdown",
      "id": "8b44d073-c22a-49d3-9576-f571f897dadf",
      "metadata": {
        "id": "8b44d073-c22a-49d3-9576-f571f897dadf"
      },
      "source": [
        "## Hello World!"
      ]
    },
    {
      "cell_type": "code",
      "execution_count": null,
      "id": "18fbe9d8-9026-4580-923c-90d0fa25d077",
      "metadata": {
        "id": "18fbe9d8-9026-4580-923c-90d0fa25d077",
        "outputId": "c9703f03-ad31-4b81-b53e-f780ed8e6ab1"
      },
      "outputs": [
        {
          "name": "stdout",
          "output_type": "stream",
          "text": [
            "[1] \"Hello world\"\n"
          ]
        }
      ],
      "source": [
        "# print(\"Hello world\") # Python\n",
        "print(\"Hello world\")"
      ]
    },
    {
      "cell_type": "markdown",
      "id": "1ecaa9f3-21dd-48d1-b781-45db5227667e",
      "metadata": {
        "id": "1ecaa9f3-21dd-48d1-b781-45db5227667e"
      },
      "source": [
        "## Working with variables\n",
        "\n",
        "In Python, everything is an object. Variables, lists, dictionaries, tuples, etc. It's built as a general purpose language. In contrast, R is a vector based language. Working with vectors (a series of values of the same type) is key to being a good R programmer. Below we'll create variables in R with Python syntax in the comments."
      ]
    },
    {
      "cell_type": "code",
      "execution_count": null,
      "id": "7ce34e8d-668a-4c0f-bece-811cad47d7f7",
      "metadata": {
        "id": "7ce34e8d-668a-4c0f-bece-811cad47d7f7"
      },
      "outputs": [],
      "source": [
        "# Numeric Variables\n",
        "############################\n",
        "\n",
        "# x = 3 #Python\n",
        "x <- 3\n",
        "\n",
        "# y = 3.5 #Python\n",
        "y <- 3.5\n",
        "\n",
        "# Character Variables/strings\n",
        "############################\n",
        "# strng = \"Supercalifragilisticexpialidocious\"\n",
        "strng <- \"Supercalifragilisticexpialidocious\"\n",
        "\n",
        "# Lists, dictionaries, etc\n",
        "############################\n",
        "# vectors: no Python equivalent\n",
        "vector_of_numbers <- c(1, 5, 6, 6, 99)\n",
        "\n",
        "# list_of_numbers = [1, 5, 6, 6, 99] #Python\n",
        "list_of_numbers <- list(1, 5, 6, 6, 99)\n",
        "\n",
        "# Note that there are no dictionaries in R. Instead we use a named list.\n",
        "# fruits = {'oranges': 3, 'apples': 7, 'pineapple': 1} #Python\n",
        "fruits <- list(oranges = 3, apples = 7, pineapple = 1)\n",
        "\n",
        "# Booleans\n",
        "#############################\n",
        "# var = True\n",
        "var <- TRUE"
      ]
    },
    {
      "cell_type": "code",
      "execution_count": null,
      "id": "7d62da2b-d977-42ae-8dcf-8332748be969",
      "metadata": {
        "id": "7d62da2b-d977-42ae-8dcf-8332748be969",
        "outputId": "b155f715-0f3c-4655-eb51-1ac8fcd13e8e"
      },
      "outputs": [
        {
          "name": "stdout",
          "output_type": "stream",
          "text": [
            "[1] \"Integer:\"\n",
            "[1] 3\n",
            "[1] \"Float:\"\n",
            "[1] 3.5\n",
            "[1] \"String:\"\n",
            "[1] \"Supercalifragilisticexpialidocious\"\n",
            "[1] \"Vector:\"\n",
            "[1]  1  5  6  6 99\n",
            "[1] \"List:\"\n",
            "[[1]]\n",
            "[1] 1\n",
            "\n",
            "[[2]]\n",
            "[1] 5\n",
            "\n",
            "[[3]]\n",
            "[1] 6\n",
            "\n",
            "[[4]]\n",
            "[1] 6\n",
            "\n",
            "[[5]]\n",
            "[1] 99\n",
            "\n",
            "[1] \"Named list:\"\n",
            "$oranges\n",
            "[1] 3\n",
            "\n",
            "$apples\n",
            "[1] 7\n",
            "\n",
            "$pineapple\n",
            "[1] 1\n",
            "\n",
            "[1] \"Boolean\"\n",
            "[1] TRUE\n"
          ]
        }
      ],
      "source": [
        "print(\"Integer:\")\n",
        "print(x)\n",
        "print(\"Float:\")\n",
        "print(y)\n",
        "print(\"String:\")\n",
        "print(strng)\n",
        "print(\"Vector:\")\n",
        "print(vector_of_numbers)\n",
        "print(\"List:\")\n",
        "print(list_of_numbers)\n",
        "print(\"Named list:\")\n",
        "print(fruits)\n",
        "print(\"Boolean\")\n",
        "print(var)"
      ]
    },
    {
      "cell_type": "markdown",
      "id": "283d1ee8-8d6e-43f7-ae7e-e924cbf5c741",
      "metadata": {
        "id": "283d1ee8-8d6e-43f7-ae7e-e924cbf5c741"
      },
      "source": [
        "### Numeric Operations"
      ]
    },
    {
      "cell_type": "code",
      "execution_count": null,
      "id": "1d710094-c519-40d7-bea6-72665af8abb6",
      "metadata": {
        "id": "1d710094-c519-40d7-bea6-72665af8abb6",
        "outputId": "0041b4ee-af95-45fc-ad17-68d8f3d529dc"
      },
      "outputs": [
        {
          "name": "stdout",
          "output_type": "stream",
          "text": [
            "[1]  3  6  8 10 13\n",
            "[1] -4 -1  1  3  6\n",
            "[1]  7.4 18.5 25.9 33.3 44.4\n",
            "[1] 0.6666667 1.6666667 2.3333333 3.0000000 4.0000000\n",
            "[1]    8  125  343  729 1728\n",
            "[1] 2 2 1 0 0\n",
            "[1] 0 1 2 3 4\n"
          ]
        }
      ],
      "source": [
        "# Because Python and R mathematical operations are mostly similar we'll be using a vector to show\n",
        "# common mathematical operations. I'll note when they are difference\n",
        "\n",
        "x <- c(2, 5, 7, 9, 12)\n",
        "\n",
        "# Addition\n",
        "print(x + 1)\n",
        "\n",
        "# Subtraction\n",
        "print(x - 6)\n",
        "\n",
        "# Multiplication\n",
        "print(x * 3.7)\n",
        "\n",
        "# Division\n",
        "print(x / 3)\n",
        "\n",
        "# Exponentiation\n",
        "# 2 ** 3 # Python\n",
        "print(x ^ 3)\n",
        "\n",
        "# Modulus: leftover after division\n",
        "# 2 % 3 # Python\n",
        "print(x %% 3)\n",
        "\n",
        "# floor division: discard the remainder after division\n",
        "# 2 // 3 # Python\n",
        "print(x %/% 3)\n"
      ]
    },
    {
      "cell_type": "markdown",
      "id": "282daf83-a57d-4e80-ae22-30e26945dc71",
      "metadata": {
        "id": "282daf83-a57d-4e80-ae22-30e26945dc71"
      },
      "source": [
        "### String operations"
      ]
    },
    {
      "cell_type": "code",
      "execution_count": null,
      "id": "8143a055-d93b-4cdd-8429-5ca814771895",
      "metadata": {
        "id": "8143a055-d93b-4cdd-8429-5ca814771895",
        "outputId": "589fd8a2-56c0-4fff-c6fe-b70ebc81ab13"
      },
      "outputs": [
        {
          "name": "stdout",
          "output_type": "stream",
          "text": [
            "hello world \n",
            "[1] \"hello world\"\n",
            "[1] 11\n",
            "[1] \"world\"\n",
            "[[1]]\n",
            "[1] \"hello\" \"world\"\n",
            "\n"
          ]
        }
      ],
      "source": [
        "x <- \"hello\"\n",
        "y <- \"world\"\n",
        "\n",
        "# Concatenate\n",
        "# print(x, y) #Python\n",
        "\n",
        "cat(x, y, \"\\n\", sep = \" \") # note that I have to include a newline in this\n",
        "print(paste0(x, \" \", y))\n",
        "\n",
        "xy <- paste0(x, \" \", y)\n",
        "\n",
        "# get string length\n",
        "# len(xy)\n",
        "print(nchar(xy))\n",
        "\n",
        "# slice a string\n",
        "# xy[7:] # Python\n",
        "print(substr(xy, 7, nchar(xy)))\n",
        "\n",
        "# split a string\n",
        "# xy.split() # Python\n",
        "print(strsplit(xy, split = \" \"))"
      ]
    },
    {
      "cell_type": "markdown",
      "id": "1c217d80-cee2-453d-a2cd-295d51e1b747",
      "metadata": {
        "id": "1c217d80-cee2-453d-a2cd-295d51e1b747"
      },
      "source": [
        "### Working with logicals/booleans"
      ]
    },
    {
      "cell_type": "code",
      "execution_count": null,
      "id": "9fdd67e4-0e59-490c-b409-cb624bcd9308",
      "metadata": {
        "id": "9fdd67e4-0e59-490c-b409-cb624bcd9308",
        "outputId": "2a3528d2-c9b3-4379-e045-1e2203f1d4da"
      },
      "outputs": [
        {
          "name": "stdout",
          "output_type": "stream",
          "text": [
            "[1] \"and\"\n",
            "[1] FALSE\n",
            "[1] \"#########\"\n",
            "[1] \"or\"\n",
            "[1] TRUE\n",
            "[1] \"#########\"\n",
            "[1] \"not\"\n",
            "[1] FALSE\n",
            "[1] \"#########\"\n",
            "[1] \"#########\"\n",
            "[1] NA\n",
            "[1] NA\n",
            "[1] FALSE\n"
          ]
        }
      ],
      "source": [
        "# Most operations are the same in Python and R. ==, !=, >, <, >=, <= are all the same\n",
        "# Where it differs the most is that NA is included as a boolean in R and when combining\n",
        "# booleans R uses & for and, | for or, and ! for not\n",
        "\n",
        "# Logical and\n",
        "print(\"and\")\n",
        "# True and False # Python\n",
        "print(TRUE & FALSE)\n",
        "print(\"#########\")\n",
        "\n",
        "# Logical or\n",
        "print(\"or\")\n",
        "# True or False # Python\n",
        "print(TRUE | FALSE)\n",
        "print(\"#########\")\n",
        "\n",
        "# Logical not\n",
        "print(\"not\")\n",
        "print(!TRUE)\n",
        "print(\"#########\")\n",
        "print(\"#########\")\n",
        "\n",
        "# Working with NA values\n",
        "print(TRUE & NA)\n",
        "print(FALSE | NA)\n",
        "print(is.na(7))"
      ]
    },
    {
      "cell_type": "markdown",
      "id": "bd31ab97-7c92-40b0-9ba0-03d8d002b39e",
      "metadata": {
        "id": "bd31ab97-7c92-40b0-9ba0-03d8d002b39e"
      },
      "source": [
        "### Casting variables"
      ]
    },
    {
      "cell_type": "code",
      "execution_count": null,
      "id": "8983eb37-7b2f-4737-ae05-de0a9ac6c3f9",
      "metadata": {
        "id": "8983eb37-7b2f-4737-ae05-de0a9ac6c3f9",
        "outputId": "a7b83c69-7b74-4b77-fe10-6f17a98c90d2"
      },
      "outputs": [
        {
          "name": "stdout",
          "output_type": "stream",
          "text": [
            "[1] \"42\"\n",
            "[1] \"character\"\n",
            "[1] 42\n",
            "[1] \"integer\"\n",
            "[1]  1  4 42  3 -7  0 NA\n",
            "[[1]]\n",
            "[1] 1\n",
            "\n",
            "[[2]]\n",
            "[1] 4\n",
            "\n",
            "[[3]]\n",
            "[1] 42\n",
            "\n",
            "[[4]]\n",
            "[1] 3\n",
            "\n",
            "[[5]]\n",
            "[1] -7\n",
            "\n",
            "[[6]]\n",
            "[1] 0\n",
            "\n",
            "[[7]]\n",
            "[1] NA\n",
            "\n"
          ]
        }
      ],
      "source": [
        "# Strings to numerics\n",
        "\n",
        "# String to numeric\n",
        "# int(\"42\") # Python\n",
        "# float(42) # Python\n",
        "# int(42.5) # Python\n",
        "\n",
        "x <- \"42\"\n",
        "print(x)\n",
        "print(class(x))\n",
        "\n",
        "y = as.integer(x)\n",
        "print(y)\n",
        "print(class(y))\n",
        "\n",
        "\n",
        "# Vectors to lists\n",
        "# Casting to vectors in Python is not possible. But you can cast from tuples to lists\n",
        "# tuple_num = (1, 2, 3) # Python\n",
        "# list_num = [1, 2, 3] # Python\n",
        "# list(tuple) # Python\n",
        "# tuple(list) # Python\n",
        "x <- c(1,4, 42, 3, -7, 0, NA_integer_)\n",
        "print(x)\n",
        "y <- as.list(x)\n",
        "print(y)"
      ]
    },
    {
      "cell_type": "markdown",
      "id": "a1939c05-ea80-4ee6-a84c-a47c4528c6ed",
      "metadata": {
        "id": "a1939c05-ea80-4ee6-a84c-a47c4528c6ed"
      },
      "source": [
        "## Loops"
      ]
    },
    {
      "cell_type": "code",
      "execution_count": null,
      "id": "81038711-52fd-46d7-8376-c961e58d8f19",
      "metadata": {
        "id": "81038711-52fd-46d7-8376-c961e58d8f19",
        "outputId": "f62e197f-4fbb-4fc3-cbdb-2e53a6e69bdb"
      },
      "outputs": [
        {
          "name": "stdout",
          "output_type": "stream",
          "text": [
            "[1] \"hello world\"\n",
            "[1] \"character\"\n",
            "[1] \" \"\n",
            "[1] 3.14\n",
            "[1] \"double\"\n",
            "[1] \" \"\n",
            "[1] NA\n",
            "[1] \"logical\"\n",
            "[1] \" \"\n",
            "[1] 1 2 3 4\n",
            "[1] \"double\"\n",
            "[1] \" \"\n",
            "[1] -99\n",
            "[1] \"double\"\n",
            "[1] \" \"\n"
          ]
        }
      ],
      "source": [
        "# vars = [\"hello world\", 3.14, None, [1, 2, 3, 4], -99] # Python\n",
        "# for x in vars:\n",
        "#     print(x)\n",
        "#     print(type(x))\n",
        "\n",
        "vars <- list(\"hello world\", 3.14, NA, c(1, 2, 3, 4), -99)\n",
        "\n",
        "for(x in vars) {\n",
        "    print(x)\n",
        "    print(typeof(x))\n",
        "}"
      ]
    },
    {
      "cell_type": "markdown",
      "id": "644910b9-11a6-40de-b9cb-5b604824753d",
      "metadata": {
        "id": "644910b9-11a6-40de-b9cb-5b604824753d"
      },
      "source": [
        "## Conditionals"
      ]
    },
    {
      "cell_type": "code",
      "execution_count": null,
      "id": "7477faa4-c1b3-4c14-916a-ad180718c099",
      "metadata": {
        "id": "7477faa4-c1b3-4c14-916a-ad180718c099",
        "outputId": "11f50b7b-d011-43ce-e71c-52aae50b80a4"
      },
      "outputs": [
        {
          "name": "stdout",
          "output_type": "stream",
          "text": [
            "[1] \"only 1 element\"\n",
            "[1] \"only 1 element\"\n",
            "[1] \"Missing value\"\n",
            "[1] 1\n",
            "[1] 2\n",
            "[1] 3\n",
            "[1] 4\n",
            "[1] \"only 1 element\"\n"
          ]
        }
      ],
      "source": [
        "# Python below\n",
        "# if len(x) > 1:\n",
        "# elif x == None:\n",
        "# else:\n",
        "\n",
        "for(x in vars) {\n",
        "    if(length(x) > 1)\n",
        "        for(y in x) {\n",
        "            print(y)\n",
        "    } else if(is.na(x)) {\n",
        "        print(\"Missing value\")\n",
        "    } else {\n",
        "        print(\"only 1 element\")\n",
        "    }\n",
        "}"
      ]
    },
    {
      "cell_type": "markdown",
      "id": "29d339f2-8db4-45c9-8487-affe1d96ddba",
      "metadata": {
        "id": "29d339f2-8db4-45c9-8487-affe1d96ddba"
      },
      "source": [
        "## Functions"
      ]
    },
    {
      "cell_type": "code",
      "execution_count": null,
      "id": "9eb8e237-6c0c-4f44-bc51-6cc4af451332",
      "metadata": {
        "id": "9eb8e237-6c0c-4f44-bc51-6cc4af451332",
        "outputId": "b2a7f898-85c5-415e-fa94-b54828fec931"
      },
      "outputs": [
        {
          "name": "stdout",
          "output_type": "stream",
          "text": [
            "[1] \"dlrow olleh\"\n"
          ]
        }
      ],
      "source": [
        "# def reverse_string(var): # Python version\n",
        "    # We're going to treat a string as a list\n",
        "    # Split on each character\n",
        "#    char_list = list(var)\n",
        "    # Reverse the elements of the list\n",
        "#    char_list.reverse()\n",
        "    # Concatenate the reversed characters to form the reversed string\n",
        "#    reversed_string = ''.join(char_list)\n",
        "#    return reversed_string # note the explicit return\n",
        "\n",
        "\n",
        "reverse_string <- function(var) {\n",
        "    # We're going to treat a string as a vector\n",
        "\n",
        "    # set an empty return variable\n",
        "    r <- \"\"\n",
        "\n",
        "    # split on each letter\n",
        "    r <- strsplit(var, NULL)[[1]]\n",
        "    # [[1]] is there because strplit returns a list we're specifying that we want the first element of\n",
        "    # the list which is a vector\n",
        "\n",
        "    r <- rev(r) # reverse the elements of the vector\n",
        "    r <- paste(r, collapse = \"\")\n",
        "    r # the last statement is returned without an explicit statememnt. To return nothing type return(NULL)\n",
        "}\n",
        "\n",
        "print(reverse_string(\"hello world\"))"
      ]
    },
    {
      "cell_type": "code",
      "execution_count": null,
      "id": "4ab43459-8db7-44ac-b46a-addf47fe85f3",
      "metadata": {
        "id": "4ab43459-8db7-44ac-b46a-addf47fe85f3"
      },
      "outputs": [],
      "source": []
    }
  ],
  "metadata": {
    "kernelspec": {
      "display_name": "R",
      "language": "R",
      "name": "ir"
    },
    "language_info": {
      "codemirror_mode": "r",
      "file_extension": ".r",
      "mimetype": "text/x-r-source",
      "name": "R",
      "pygments_lexer": "r",
      "version": "4.3.1"
    },
    "colab": {
      "provenance": []
    }
  },
  "nbformat": 4,
  "nbformat_minor": 5
}